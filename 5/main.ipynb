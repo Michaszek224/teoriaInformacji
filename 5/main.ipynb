{
 "cells": [
  {
   "cell_type": "code",
   "execution_count": 73,
   "metadata": {},
   "outputs": [],
   "source": [
    "from bitarray import bitarray\n"
   ]
  },
  {
   "cell_type": "code",
   "execution_count": 74,
   "metadata": {},
   "outputs": [],
   "source": [
    "def openFile(path):\n",
    "    \"\"\"Otwiera plik i zwraca jego zawartosc\"\"\"\n",
    "    with open(path, \"r\") as f:\n",
    "        return f.read()\n",
    "\n",
    "def decToBin(n):\n",
    "    \"\"\"Zamienia liczbe dziesietna na binarna\"\"\"\n",
    "    if n == 0:\n",
    "        return \"0\"\n",
    "    elif n == 1:\n",
    "        return \"1\"\n",
    "    else:\n",
    "        return decToBin(n // 2) + str(n % 2)\n",
    "\n",
    "def toBits(n):\n",
    "    \"\"\"Zamienia liczbe na binarna i dodaje zera na poczatek\"\"\"\n",
    "    bits = decToBin(n)\n",
    "    #kod ma 6 bitow\n",
    "    while len(bits) < 6:\n",
    "        bits = \"0\" + bits\n",
    "    return bits"
   ]
  },
  {
   "cell_type": "code",
   "execution_count": 75,
   "metadata": {},
   "outputs": [],
   "source": [
    "class drzewo:\n",
    "    \"\"\"Klasa reprezentujaca drzewo\"\"\"\n",
    "    def __init__(self, lewy = None, prawy = None):\n",
    "        self.lewy = lewy\n",
    "        self.prawy = prawy\n",
    "        self.wartosc = None\n",
    "\n",
    "    def __str__(self):\n",
    "        \"\"\"Zwraca stringa reprezentujacego drzewo\"\"\"\n",
    "        return f\"({self.lewy} | {self.prawy})\""
   ]
  },
  {
   "cell_type": "code",
   "execution_count": 76,
   "metadata": {},
   "outputs": [],
   "source": [
    "def tworzenieDrzewa(letters):\n",
    "    while len(letters) > 1:\n",
    "        #tworzenie wezla\n",
    "        node = drzewo()\n",
    "\n",
    "        #dodawanie liter do wezla\n",
    "        node.lewy = letters[0][0]\n",
    "        node.prawy = letters[1][0]\n",
    "\n",
    "        #dodawanie czestotliwosci liter do wezla\n",
    "        node.wartosc = letters[0][1] + letters[1][1]\n",
    "\n",
    "        print(\"nowy wezel: \", node.wartosc, \" lewy: \", node.lewy, \" prawy: \", node.prawy)\n",
    "\n",
    "        #dodanie wezla do listy\n",
    "        letters.append((node, node.wartosc))\n",
    "\n",
    "        #usuwanie dwoch najrzadszych liter\n",
    "        letters.pop(0)\n",
    "        letters.pop(0)\n",
    "\n",
    "        #sortowanie liter w kolejnosci od najrzadszej\n",
    "        letters = sorted(letters, key=lambda x: x[1], reverse=False)\n",
    "    return node"
   ]
  },
  {
   "cell_type": "code",
   "execution_count": 77,
   "metadata": {},
   "outputs": [],
   "source": [
    "def create(text):\n",
    "    \"\"\"Na podstawie czestotliwosi liter tworzy kod\"\"\"\n",
    "    letters = {}\n",
    "    #zliczanie czestotliwosci liter\n",
    "    for letter in text:\n",
    "        if letter in letters:\n",
    "            letters[letter] += 1\n",
    "        else:\n",
    "            letters[letter] = 1\n",
    "\n",
    "    #sortowanie liter w kolejnosci od najrzadszej\n",
    "    letters = sorted(letters.items(), key=lambda x: x[1], reverse=False)\n",
    "    \n",
    "    node = tworzenieDrzewa(letters)\n",
    "    print(node)\n",
    "\n",
    "    kod = {}\n",
    "    return kod"
   ]
  },
  {
   "cell_type": "code",
   "execution_count": 78,
   "metadata": {},
   "outputs": [],
   "source": [
    "def encode(text, kod):\n",
    "    \"\"\"Koduje tekst na podstawie kodu\"\"\"\n",
    "    zakodowane = bitarray()\n",
    "    for letter in text:\n",
    "        zakodowane.extend(kod[letter])\n",
    "    return zakodowane "
   ]
  },
  {
   "cell_type": "code",
   "execution_count": 79,
   "metadata": {},
   "outputs": [],
   "source": [
    "def decode(text, kod):\n",
    "    \"\"\"Dekoduje tekst na podstawie kodu\"\"\"\n",
    "    #odwracanie kodu\n",
    "    odwr = {v: k for k, v in kod.items()}\n",
    "    encodedText = \"\"\n",
    "    counter = 0\n",
    "    localText = \"\"\n",
    "    for i in text:\n",
    "        \n",
    "        if counter == 6:\n",
    "            encodedText += odwr[localText]\n",
    "            localText = \"\"\n",
    "            counter = 0\n",
    "        counter += 1\n",
    "        localText += str(i)\n",
    "    #dodanie osatnich 6 bitow\n",
    "    encodedText += odwr[localText]\n",
    "    return encodedText"
   ]
  },
  {
   "cell_type": "code",
   "execution_count": 80,
   "metadata": {},
   "outputs": [],
   "source": [
    "def save(kod, text):\n",
    "    \"\"\"Zapisuje kod do pliku tekstowego, a zakodowany tekst jako binarny\"\"\"\n",
    "    with open(\"kod.txt\", \"w\") as f:\n",
    "        for letter in kod:\n",
    "            f.write(letter + \" \" + kod[letter] + \"\\n\")\n",
    "    with open(\"text.bin\", \"wb\") as f:\n",
    "        text.tofile(f)\n",
    "\n",
    "\n",
    "def load():\n",
    "    \"\"\"Laduje kod i tekst z pliku\"\"\"\n",
    "    kod = {}\n",
    "    with open(\"kod.txt\", \"r\") as f:\n",
    "        for line in f:\n",
    "            if line[0] == \" \":\n",
    "                letter = \" \"\n",
    "                code = line[1:].strip()\n",
    "                kod[letter] = code\n",
    "            else:\n",
    "                letter, code = line.split()\n",
    "                kod[letter] = code.strip()\n",
    "    text = bitarray()\n",
    "    with open(\"text.bin\", \"rb\") as f:\n",
    "        text.fromfile(f)\n",
    "    return kod, text"
   ]
  },
  {
   "cell_type": "code",
   "execution_count": 81,
   "metadata": {},
   "outputs": [
    {
     "name": "stdout",
     "output_type": "stream",
     "text": [
      " albert of prussia 17 may 1490 20 march 1568 was the last grand master of the teutonic knights who after converting to lutheranism became the first monarch of the duchy of prussia the secularized state that emerged from the former monastic state of the teutonic knights albert was the first european ruler to establish protestantism as the official state religion of his lands he proved instrumental in the political spread of protestantism in its early stage ruling the prussian lands for nearly six decades 15101568 a member of the brandenburg ansbach branch of the house of hohenzollern albert s election as grand master had brought about hopes of a reversal of the declining fortune of the teutonic knights he was a skilled political administrator and leader and did indeed reverse the decline of the teutonic order however albert who was sympathetic to the demands of martin luther rebelled against the catholic church and the holy roman empire by converting the teutonic state into a protestant\n"
     ]
    }
   ],
   "source": [
    "path = \"sample.txt\"\n",
    "text = openFile(path)\n",
    "print(text[:1000])"
   ]
  },
  {
   "cell_type": "code",
   "execution_count": 82,
   "metadata": {},
   "outputs": [
    {
     "name": "stdout",
     "output_type": "stream",
     "text": [
      "nowy wezel:  23138  lewy:  q  prawy:  z\n",
      "nowy wezel:  33007  lewy:  6  prawy:  7\n",
      "nowy wezel:  34971  lewy:  4  prawy:  x\n",
      "nowy wezel:  36847  lewy:  5  prawy:  3\n",
      "nowy wezel:  43701  lewy:  8  prawy:  j\n",
      "nowy wezel:  56145  lewy:  (q | z)  prawy:  (6 | 7)\n",
      "nowy wezel:  71818  lewy:  (4 | x)  prawy:  (5 | 3)\n",
      "nowy wezel:  75963  lewy:  2  prawy:  9\n",
      "nowy wezel:  94137  lewy:  (8 | j)  prawy:  0\n",
      "nowy wezel:  119474  lewy:  ((q | z) | (6 | 7))  prawy:  1\n",
      "nowy wezel:  136890  lewy:  k  prawy:  ((4 | x) | (5 | 3))\n",
      "nowy wezel:  168169  lewy:  (2 | 9)  prawy:  v\n",
      "nowy wezel:  213611  lewy:  ((8 | j) | 0)  prawy:  (((q | z) | (6 | 7)) | 1)\n",
      "nowy wezel:  271134  lewy:  y  prawy:  (k | ((4 | x) | (5 | 3)))\n",
      "nowy wezel:  283848  lewy:  w  prawy:  b\n",
      "nowy wezel:  343840  lewy:  ((2 | 9) | v)  prawy:  g\n",
      "nowy wezel:  374319  lewy:  p  prawy:  f\n",
      "nowy wezel:  443526  lewy:  (((8 | j) | 0) | (((q | z) | (6 | 7)) | 1))  prawy:  u\n",
      "nowy wezel:  503404  lewy:  m  prawy:  (y | (k | ((4 | x) | (5 | 3))))\n",
      "nowy wezel:  581310  lewy:  (w | b)  prawy:  c\n",
      "nowy wezel:  684876  lewy:  d  prawy:  (((2 | 9) | v) | g)\n",
      "nowy wezel:  752530  lewy:  (p | f)  prawy:  l\n",
      "nowy wezel:  836957  lewy:  h  prawy:  ((((8 | j) | 0) | (((q | z) | (6 | 7)) | 1)) | u)\n",
      "nowy wezel:  1076093  lewy:  (m | (y | (k | ((4 | x) | (5 | 3)))))  prawy:  s\n",
      "nowy wezel:  1167398  lewy:  ((w | b) | c)  prawy:  r\n",
      "nowy wezel:  1270640  lewy:  o  prawy:  n\n",
      "nowy wezel:  1342516  lewy:  i  prawy:  (d | (((2 | 9) | v) | g))\n",
      "nowy wezel:  1467796  lewy:  t  prawy:  ((p | f) | l)\n",
      "nowy wezel:  1614833  lewy:  a  prawy:  (h | ((((8 | j) | 0) | (((q | z) | (6 | 7)) | 1)) | u))\n",
      "nowy wezel:  2085251  lewy:  e  prawy:  ((m | (y | (k | ((4 | x) | (5 | 3))))) | s)\n",
      "nowy wezel:  2438038  lewy:  (((w | b) | c) | r)  prawy:  (o | n)\n",
      "nowy wezel:  2810312  lewy:  (i | (d | (((2 | 9) | v) | g)))  prawy:  (t | ((p | f) | l))\n",
      "nowy wezel:  3455340  lewy:  (a | (h | ((((8 | j) | 0) | (((q | z) | (6 | 7)) | 1)) | u)))  prawy:   \n",
      "nowy wezel:  4523289  lewy:  (e | ((m | (y | (k | ((4 | x) | (5 | 3))))) | s))  prawy:  ((((w | b) | c) | r) | (o | n))\n",
      "nowy wezel:  6265652  lewy:  ((i | (d | (((2 | 9) | v) | g))) | (t | ((p | f) | l)))  prawy:  ((a | (h | ((((8 | j) | 0) | (((q | z) | (6 | 7)) | 1)) | u))) |  )\n",
      "nowy wezel:  10788941  lewy:  ((e | ((m | (y | (k | ((4 | x) | (5 | 3))))) | s)) | ((((w | b) | c) | r) | (o | n)))  prawy:  (((i | (d | (((2 | 9) | v) | g))) | (t | ((p | f) | l))) | ((a | (h | ((((8 | j) | 0) | (((q | z) | (6 | 7)) | 1)) | u))) |  ))\n",
      "(((e | ((m | (y | (k | ((4 | x) | (5 | 3))))) | s)) | ((((w | b) | c) | r) | (o | n))) | (((i | (d | (((2 | 9) | v) | g))) | (t | ((p | f) | l))) | ((a | (h | ((((8 | j) | 0) | (((q | z) | (6 | 7)) | 1)) | u))) |  )))\n"
     ]
    },
    {
     "data": {
      "text/plain": [
       "{}"
      ]
     },
     "execution_count": 82,
     "metadata": {},
     "output_type": "execute_result"
    }
   ],
   "source": [
    "create(text)"
   ]
  },
  {
   "cell_type": "code",
   "execution_count": null,
   "metadata": {},
   "outputs": [],
   "source": []
  }
 ],
 "metadata": {
  "kernelspec": {
   "display_name": "Python 3",
   "language": "python",
   "name": "python3"
  },
  "language_info": {
   "codemirror_mode": {
    "name": "ipython",
    "version": 3
   },
   "file_extension": ".py",
   "mimetype": "text/x-python",
   "name": "python",
   "nbconvert_exporter": "python",
   "pygments_lexer": "ipython3",
   "version": "3.13.2"
  }
 },
 "nbformat": 4,
 "nbformat_minor": 2
}
