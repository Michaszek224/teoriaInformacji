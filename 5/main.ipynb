{
 "cells": [
  {
   "cell_type": "code",
   "execution_count": 75,
   "metadata": {},
   "outputs": [],
   "source": [
    "from bitarray import bitarray\n",
    "from collections import Counter\n",
    "import math"
   ]
  },
  {
   "cell_type": "code",
   "execution_count": 63,
   "metadata": {},
   "outputs": [],
   "source": [
    "def openFile(path):\n",
    "    \"\"\"Otwiera plik i zwraca jego zawartosc\"\"\"\n",
    "    with open(path, \"r\") as f:\n",
    "        return f.read()\n",
    "\n",
    "def decToBin(n):\n",
    "    \"\"\"Zamienia liczbe dziesietna na binarna\"\"\"\n",
    "    if n == 0:\n",
    "        return \"0\"\n",
    "    elif n == 1:\n",
    "        return \"1\"\n",
    "    else:\n",
    "        return decToBin(n // 2) + str(n % 2)\n",
    "\n",
    "def toBits(n):\n",
    "    \"\"\"Zamienia liczbe na binarna i dodaje zera na poczatek\"\"\"\n",
    "    bits = decToBin(n)\n",
    "    #kod ma 6 bitow\n",
    "    while len(bits) < 6:\n",
    "        bits = \"0\" + bits\n",
    "    return bits"
   ]
  },
  {
   "cell_type": "code",
   "execution_count": 64,
   "metadata": {},
   "outputs": [],
   "source": [
    "class drzewo:\n",
    "    \"\"\"Klasa reprezentujaca drzewo\"\"\"\n",
    "    def __init__(self, lewy = None, prawy = None):\n",
    "        self.lewy = lewy\n",
    "        self.prawy = prawy\n",
    "        self.wartosc = None\n",
    "\n",
    "    def __str__(self):\n",
    "        \"\"\"Zwraca stringa reprezentujacego drzewo\"\"\"\n",
    "        return f\"({self.lewy} | {self.prawy})\""
   ]
  },
  {
   "cell_type": "code",
   "execution_count": 65,
   "metadata": {},
   "outputs": [],
   "source": [
    "def generowanieKodu(node, prefix=\"\", codebook=None):\n",
    "    \"\"\"Rekurencyjnie tworzy słownik kodów Huffmana:\"\"\"\n",
    "    if codebook is None:\n",
    "        codebook = {}\n",
    "\n",
    "    # Jeżeli 'node' to nie obiekt drzewo, to jest to liść (symbol)\n",
    "    if not isinstance(node, drzewo):\n",
    "        codebook[node] = prefix or \"0\"   # jeśli drzewo składa się z jednego liścia, dajemy kod \"0\"\n",
    "    else:\n",
    "        # schodzimy w lewo (\"0\")\n",
    "        generowanieKodu(node.lewy,  prefix + \"0\", codebook)\n",
    "        # schodzimy w prawo (\"1\")\n",
    "        generowanieKodu(node.prawy, prefix + \"1\", codebook)\n",
    "\n",
    "    return codebook\n"
   ]
  },
  {
   "cell_type": "code",
   "execution_count": 66,
   "metadata": {},
   "outputs": [],
   "source": [
    "def tworzenieDrzewa(letters):\n",
    "    while len(letters) > 1:\n",
    "        #tworzenie wezla\n",
    "        node = drzewo()\n",
    "\n",
    "        #dodawanie liter do wezla\n",
    "        node.lewy = letters[0][0]\n",
    "        node.prawy = letters[1][0]\n",
    "\n",
    "        #dodawanie czestotliwosci liter do wezla\n",
    "        node.wartosc = letters[0][1] + letters[1][1]\n",
    "\n",
    "        # print(\"nowy wezel: \", node.wartosc, \" lewy: \", node.lewy, \" prawy: \", node.prawy)\n",
    "\n",
    "        #dodanie wezla do listy\n",
    "        letters.append((node, node.wartosc))\n",
    "\n",
    "        #usuwanie dwoch najrzadszych liter\n",
    "        letters.pop(0)\n",
    "        letters.pop(0)\n",
    "\n",
    "        #sortowanie liter w kolejnosci od najrzadszej\n",
    "        letters = sorted(letters, key=lambda x: x[1], reverse=False)\n",
    "    return node"
   ]
  },
  {
   "cell_type": "code",
   "execution_count": 67,
   "metadata": {},
   "outputs": [],
   "source": [
    "def create(text):\n",
    "    \"\"\"Na podstawie czestotliwosi liter tworzy kod\"\"\"\n",
    "    letters = {}\n",
    "    #zliczanie czestotliwosci liter\n",
    "    for letter in text:\n",
    "        if letter in letters:\n",
    "            letters[letter] += 1\n",
    "        else:\n",
    "            letters[letter] = 1\n",
    "\n",
    "    #sortowanie liter w kolejnosci od najrzadszej\n",
    "    letters = sorted(letters.items(), key=lambda x: x[1], reverse=False)\n",
    "    \n",
    "    node = tworzenieDrzewa(letters)\n",
    "    # print(node)\n",
    "\n",
    "    kod = generowanieKodu(node)\n",
    "    return kod"
   ]
  },
  {
   "cell_type": "code",
   "execution_count": 68,
   "metadata": {},
   "outputs": [],
   "source": [
    "def encode(text, kod):\n",
    "    \"\"\"Koduje tekst na podstawie kodu\"\"\"\n",
    "    zakodowane = bitarray()\n",
    "    for letter in text:\n",
    "        zakodowane.extend(kod[letter])\n",
    "    return zakodowane "
   ]
  },
  {
   "cell_type": "code",
   "execution_count": 69,
   "metadata": {},
   "outputs": [],
   "source": [
    "def decode(bits, kod):\n",
    "    \"\"\"\n",
    "    Dekoduje bitarray do oryginalnego tekstu\"\"\"\n",
    "    # odwracaanie kodu\n",
    "    odwr = {v: k for k, v in kod.items()}\n",
    "\n",
    "    decoded = []\n",
    "    buffer = \"\"\n",
    "    for bit in bits.to01():\n",
    "        buffer += bit\n",
    "        if buffer in odwr:\n",
    "            decoded.append(odwr[buffer])\n",
    "            buffer = \"\"\n",
    "\n",
    "    return \"\".join(decoded)"
   ]
  },
  {
   "cell_type": "code",
   "execution_count": 70,
   "metadata": {},
   "outputs": [],
   "source": [
    "def save(kod, text):\n",
    "    \"\"\"Zapisuje kod do pliku tekstowego, a zakodowany tekst jako binarny\"\"\"\n",
    "    with open(\"kod.txt\", \"w\") as f:\n",
    "        for letter in kod:\n",
    "            f.write(letter + \" \" + kod[letter] + \"\\n\")\n",
    "    with open(\"text.bin\", \"wb\") as f:\n",
    "        text.tofile(f)\n",
    "\n",
    "\n",
    "def load():\n",
    "    \"\"\"Laduje kod i tekst z pliku\"\"\"\n",
    "    kod = {}\n",
    "    with open(\"kod.txt\", \"r\") as f:\n",
    "        for line in f:\n",
    "            if line[0] == \" \":\n",
    "                letter = \" \"\n",
    "                code = line[1:].strip()\n",
    "                kod[letter] = code\n",
    "            else:\n",
    "                letter, code = line.split()\n",
    "                kod[letter] = code.strip()\n",
    "    text = bitarray()\n",
    "    with open(\"text.bin\", \"rb\") as f:\n",
    "        text.fromfile(f)\n",
    "    return kod, text"
   ]
  },
  {
   "cell_type": "code",
   "execution_count": 71,
   "metadata": {},
   "outputs": [
    {
     "name": "stdout",
     "output_type": "stream",
     "text": [
      " albert of prussia 17 may 1490 20 march 1568 was the last grand master of the teutonic knights who after converting to lutheranism became the first monarch of the duchy of prussia the secularized state that emerged from the former monastic state of the teutonic knights albert was the first european ruler to establish protestantism as the official state religion of his lands he proved instrumental in the political spread of protestantism in its early stage ruling the prussian lands for nearly six decades 15101568 a member of the brandenburg ansbach branch of the house of hohenzollern albert s election as grand master had brought about hopes of a reversal of the declining fortune of the teutonic knights he was a skilled political administrator and leader and did indeed reverse the decline of the teutonic order however albert who was sympathetic to the demands of martin luther rebelled against the catholic church and the holy roman empire by converting the teutonic state into a protestant\n"
     ]
    }
   ],
   "source": [
    "path = \"sample.txt\"\n",
    "text = openFile(path)\n",
    "print(text[:1000])"
   ]
  },
  {
   "cell_type": "code",
   "execution_count": 74,
   "metadata": {},
   "outputs": [
    {
     "name": "stdout",
     "output_type": "stream",
     "text": [
      "zakodowane:  bitarray('1111100101110100010000101101011101101011011111011000101110111001100111000110011111011011110110101111')\n",
      "odkodowane:   albert of prussia 17 may 1490 20 march 1568 was the last grand master of the teutonic knights who a\n",
      "czy odkodowane jest takie samo jak oryginalne:  True\n"
     ]
    }
   ],
   "source": [
    "kod = create(text)\n",
    "zakodowane = encode(text, kod)\n",
    "odkodowane = decode(zakodowane, kod)\n",
    "print(\"zakodowane: \", zakodowane[:100])\n",
    "print(\"odkodowane: \", odkodowane[:100])\n",
    "print(\"czy odkodowane jest takie samo jak oryginalne: \", odkodowane == text)"
   ]
  },
  {
   "cell_type": "code",
   "execution_count": 78,
   "metadata": {},
   "outputs": [
    {
     "name": "stdout",
     "output_type": "stream",
     "text": [
      "Średnia długość kodu: 4.3090 bitów\n",
      "Entropia źródła H: 4.2804 bitów\n",
      "Efektywność kodowania η: 99.34%\n"
     ]
    }
   ],
   "source": [
    "# 1. Oblicz częstości i prawdopodobieństwa\n",
    "freq = Counter(text)\n",
    "N = sum(freq.values())\n",
    "\n",
    "# 2. Średnia długość kodu L\n",
    "avg_length = sum((freq[sym] / N) * len(kod[sym]) for sym in freq)\n",
    "\n",
    "# 3. Entropia H\n",
    "entropy = -sum((freq[sym] / N) * math.log2(freq[sym] / N) for sym in freq)\n",
    "\n",
    "# 4. Efektywność η = H / L\n",
    "efficiency = entropy / avg_length\n",
    "\n",
    "print(f\"Średnia długość kodu: {avg_length:.4f} bitów\")\n",
    "print(f\"Entropia źródła H: {entropy:.4f} bitów\")\n",
    "print(f\"Efektywność kodowania η: {efficiency*100:.2f}%\")"
   ]
  }
 ],
 "metadata": {
  "kernelspec": {
   "display_name": "Python 3",
   "language": "python",
   "name": "python3"
  },
  "language_info": {
   "codemirror_mode": {
    "name": "ipython",
    "version": 3
   },
   "file_extension": ".py",
   "mimetype": "text/x-python",
   "name": "python",
   "nbconvert_exporter": "python",
   "pygments_lexer": "ipython3",
   "version": "3.13.3"
  }
 },
 "nbformat": 4,
 "nbformat_minor": 2
}
