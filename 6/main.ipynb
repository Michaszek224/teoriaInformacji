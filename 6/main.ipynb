{
 "cells": [
  {
   "cell_type": "code",
   "execution_count": 56,
   "metadata": {},
   "outputs": [],
   "source": [
    "from bitarray import bitarray\n",
    "import struct"
   ]
  },
  {
   "cell_type": "code",
   "execution_count": 57,
   "metadata": {},
   "outputs": [],
   "source": [
    "def openFile(path):\n",
    "    \"\"\"Otwiera plik i zwraca jego zawartosc\"\"\"\n",
    "    with open(path, \"rb\") as f:\n",
    "        return f.read()\n",
    "\n",
    "def decToBin(n):\n",
    "    \"\"\"Zamienia liczbe dziesietna na binarna\"\"\"\n",
    "    if n == 0:\n",
    "        return \"0\"\n",
    "    elif n == 1:\n",
    "        return \"1\"\n",
    "    else:\n",
    "        return decToBin(n // 2) + str(n % 2)\n",
    "\n",
    "def toBits(n):\n",
    "    \"\"\"Zamienia liczbe na binarna i dodaje zera na poczatek\"\"\"\n",
    "    bits = decToBin(n)\n",
    "    #kod ma 6 bitow\n",
    "    while len(bits) < 6:\n",
    "        bits = \"0\" + bits\n",
    "    return bits"
   ]
  },
  {
   "cell_type": "code",
   "execution_count": 58,
   "metadata": {},
   "outputs": [],
   "source": [
    "def encode(text):\n",
    "    \"\"\"Kodowanie LZW\"\"\"\n",
    "    dictionary = {bytes([i]): i for i in range(256)}\n",
    "    dict_size = 256\n",
    "\n",
    "    p = b\"\"          # bieżący „pattern”\n",
    "    encoded = []     # zakodowane dane\n",
    "\n",
    "    for byte in text:\n",
    "        c = bytes([byte])\n",
    "        pc = p + c\n",
    "        if pc in dictionary: # jeśli jest w słowniku\n",
    "            p = pc\n",
    "        else:\n",
    "            # jeśli nie ma\n",
    "            encoded.append(dictionary[p])\n",
    "            dictionary[pc] = dict_size\n",
    "            dict_size += 1\n",
    "            p = c\n",
    "\n",
    "    #ostatni pattern\n",
    "    if p:\n",
    "        encoded.append(dictionary[p])\n",
    "\n",
    "    return encoded"
   ]
  },
  {
   "cell_type": "code",
   "execution_count": 59,
   "metadata": {},
   "outputs": [],
   "source": [
    "def decode(text):\n",
    "    \"\"\"Dekodowanie LZW\"\"\"\n",
    "    dictionary = {i: bytes([i]) for i in range(256)}\n",
    "    dict_size = 256\n",
    "\n",
    "    # Pierwszy kod\n",
    "    iter_codes = iter(text)\n",
    "    first_code = next(iter_codes)\n",
    "    w = dictionary[first_code]\n",
    "    result = bytearray(w)\n",
    "\n",
    "    # Reszta\n",
    "    for k in iter_codes:\n",
    "        if k in dictionary:\n",
    "            entry = dictionary[k]\n",
    "        elif k == dict_size:\n",
    "            # przypadek specialny LZW\n",
    "            entry = w + w[:1]\n",
    "        else:\n",
    "            raise ValueError(\"Nieprawidłowy kod w dekodowaniu LZW\")\n",
    "        \n",
    "        result.extend(entry)\n",
    "        # dodaj nowy wpis do słownika\n",
    "        dictionary[dict_size] = w + entry[:1]\n",
    "        dict_size += 1\n",
    "\n",
    "        w = entry\n",
    "\n",
    "    return bytes(result)"
   ]
  },
  {
   "cell_type": "code",
   "execution_count": 60,
   "metadata": {},
   "outputs": [],
   "source": [
    "def save(text, path):\n",
    "    \"\"\"Zapisuje zakodowane dane do pliku\"\"\"\n",
    "    with open(path, 'wb') as f:\n",
    "        for code in text:\n",
    "            f.write(struct.pack('>I', code))\n",
    "\n",
    "\n",
    "def load(path):\n",
    "    \"\"\"Wczytuje plik i zwraca jego zawartosc\"\"\"\n",
    "    codes = []\n",
    "    with open(path, 'rb') as f:\n",
    "        while True:\n",
    "            bytes_read = f.read(4)\n",
    "            if not bytes_read:\n",
    "                break\n",
    "            codes.append(struct.unpack('>I', bytes_read)[0])\n",
    "    return codes"
   ]
  },
  {
   "cell_type": "code",
   "execution_count": 61,
   "metadata": {},
   "outputs": [],
   "source": [
    "path1 = \"dane/lena.bmp\"\n",
    "path2 = \"dane/norm_wiki_sample.txt\"\n",
    "path3 = \"dane/wiki_sample.txt\"\n",
    "lena = openFile(path1)\n",
    "normWikiSample = openFile(path2)\n",
    "wikiSample = openFile(path3)\n",
    "# print(lena[:1000])\n",
    "# print(normWikiSample[:1000])\n",
    "# print(wikiSample[:1000])"
   ]
  },
  {
   "cell_type": "code",
   "execution_count": 62,
   "metadata": {},
   "outputs": [
    {
     "name": "stdout",
     "output_type": "stream",
     "text": [
      "Czy zakodowany tekst jest taki sam jak oryginalny? True\n",
      "Czy zakodowany tekst jest taki sam jak oryginalny? True\n",
      "Czy zakodowany tekst jest taki sam jak oryginalny? True\n"
     ]
    }
   ],
   "source": [
    "encodedLena = encode(lena)\n",
    "decodedLena = decode(encodedLena)\n",
    "encodedNormWikiSample = encode(normWikiSample)\n",
    "decodedNormWikiSample = decode(encodedNormWikiSample)\n",
    "encodedWikiSample = encode(wikiSample)\n",
    "decodedWikiSample = decode(encodedWikiSample)\n",
    "print(\"Czy zakodowany tekst jest taki sam jak oryginalny?\", decodedLena == lena)\n",
    "print(\"Czy zakodowany tekst jest taki sam jak oryginalny?\", decodedNormWikiSample == normWikiSample)\n",
    "print(\"Czy zakodowany tekst jest taki sam jak oryginalny?\", decodedWikiSample == wikiSample)"
   ]
  },
  {
   "cell_type": "code",
   "execution_count": 63,
   "metadata": {},
   "outputs": [
    {
     "name": "stdout",
     "output_type": "stream",
     "text": [
      "Lena        b'BMJ\\xdb\\xaf\\x00\\x00\\x00\\x00\\x00\\x8a\\x00\\x00\\x00|\\x00\\x00\\x00\\xa8\\x07\\x00\\x00\\xa8\\x07\\x00\\x00\\x01\\x00\\x18\\x00\\x00\\x00\\x00\\x00\\xc0\\xda\\xaf\\x00\\x12\\x0b\\x00\\x00\\x12\\x0b\\x00\\x00\\x00\\x00\\x00\\x00\\x00\\x00\\x00\\x00\\x00\\x00\\xff\\x00\\x00\\xff\\x00\\x00\\xff\\x00\\x00\\x00\\x00\\x00\\x00\\xffBGRs\\x80\\xc2\\xf5(`\\xb8\\x1e\\x15 \\x85\\xeb\\x01@33\\x13\\x80ff&@ff\\x06\\xa0\\x99'\n",
      "decodedLena b'BMJ\\xdb\\xaf\\x00\\x00\\x00\\x00\\x00\\x8a\\x00\\x00\\x00|\\x00\\x00\\x00\\xa8\\x07\\x00\\x00\\xa8\\x07\\x00\\x00\\x01\\x00\\x18\\x00\\x00\\x00\\x00\\x00\\xc0\\xda\\xaf\\x00\\x12\\x0b\\x00\\x00\\x12\\x0b\\x00\\x00\\x00\\x00\\x00\\x00\\x00\\x00\\x00\\x00\\x00\\x00\\xff\\x00\\x00\\xff\\x00\\x00\\xff\\x00\\x00\\x00\\x00\\x00\\x00\\xffBGRs\\x80\\xc2\\xf5(`\\xb8\\x1e\\x15 \\x85\\xeb\\x01@33\\x13\\x80ff&@ff\\x06\\xa0\\x99'\n",
      "normWikiSample        b' albert of prussia 17 may 1490 20 march 1568 was the last grand master of the teutonic knights who a'\n",
      "decodedNormWikiSample b' albert of prussia 17 may 1490 20 march 1568 was the last grand master of the teutonic knights who a'\n",
      "wikiSample        b'@@1514 Albert of Prussia ( 17 May 1490 20 March 1568 ) was the last Grand Master of the Teutonic Kni'\n",
      "decodedWikiSample b'@@1514 Albert of Prussia ( 17 May 1490 20 March 1568 ) was the last Grand Master of the Teutonic Kni'\n"
     ]
    }
   ],
   "source": [
    "print(\"Lena       \", lena[:100])\n",
    "print(\"decodedLena\", decodedLena[:100])\n",
    "print(\"normWikiSample       \", normWikiSample[:100])\n",
    "print(\"decodedNormWikiSample\", decodedNormWikiSample[:100])\n",
    "print(\"wikiSample       \", wikiSample[:100])\n",
    "print(\"decodedWikiSample\", decodedWikiSample[:100])"
   ]
  },
  {
   "cell_type": "code",
   "execution_count": 64,
   "metadata": {},
   "outputs": [],
   "source": [
    "save(encodedLena, \"wyniki/lena.bin\")\n",
    "save(encodedNormWikiSample, \"wyniki/norm_wiki_sample.bin\")\n",
    "save(encodedWikiSample, \"wyniki/wiki_sample.bin\")\n",
    "loadedLena = load(\"wyniki/lena.bin\")\n",
    "loadedNormWikiSample = load(\"wyniki/norm_wiki_sample.bin\")\n",
    "loadedWikiSample = load(\"wyniki/wiki_sample.bin\")"
   ]
  },
  {
   "cell_type": "code",
   "execution_count": 65,
   "metadata": {},
   "outputs": [
    {
     "name": "stdout",
     "output_type": "stream",
     "text": [
      "Czy zakodowany tekst jest taki sam jak oryginalny? True\n",
      "Czy zakodowany tekst jest taki sam jak oryginalny? True\n",
      "Czy zakodowany tekst jest taki sam jak oryginalny? True\n"
     ]
    }
   ],
   "source": [
    "decodedLoadedLena = decode(loadedLena)\n",
    "decodedLoadedNormWikiSample = decode(loadedNormWikiSample)\n",
    "decodedLoadedWikiSample = decode(loadedWikiSample)\n",
    "print(\"Czy zakodowany tekst jest taki sam jak oryginalny?\", decodedLoadedLena == lena)\n",
    "print(\"Czy zakodowany tekst jest taki sam jak oryginalny?\", decodedLoadedNormWikiSample == normWikiSample)\n",
    "print(\"Czy zakodowany tekst jest taki sam jak oryginalny?\", decodedLoadedWikiSample == wikiSample)"
   ]
  },
  {
   "cell_type": "code",
   "execution_count": null,
   "metadata": {},
   "outputs": [],
   "source": []
  }
 ],
 "metadata": {
  "kernelspec": {
   "display_name": "Python 3",
   "language": "python",
   "name": "python3"
  },
  "language_info": {
   "codemirror_mode": {
    "name": "ipython",
    "version": 3
   },
   "file_extension": ".py",
   "mimetype": "text/x-python",
   "name": "python",
   "nbconvert_exporter": "python",
   "pygments_lexer": "ipython3",
   "version": "3.13.3"
  }
 },
 "nbformat": 4,
 "nbformat_minor": 2
}
