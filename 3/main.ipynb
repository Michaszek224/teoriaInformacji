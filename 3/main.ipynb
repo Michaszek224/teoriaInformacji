{
 "cells": [
  {
   "cell_type": "code",
   "execution_count": 1,
   "metadata": {},
   "outputs": [],
   "source": [
    "import math\n",
    "from collections import Counter"
   ]
  },
  {
   "cell_type": "code",
   "execution_count": 2,
   "metadata": {},
   "outputs": [],
   "source": [
    "def openFile(path):\n",
    "    \"\"\"Otwiera plik i zwraca jego zawartosc\"\"\"\n",
    "    with open(path, \"r\") as f:\n",
    "        return f.read()\n",
    "\n",
    "def entropia(tekst):\n",
    "    \"\"\"Funkcja obliczajaca entropie dla podanego tekstu\"\"\"\n",
    "    entropia = 0\n",
    "    counter = Counter(tekst)\n",
    "    for znak in counter:\n",
    "        p = counter[znak] / len(tekst)\n",
    "        entropia += -p * math.log2(p)\n",
    "    return entropia\n",
    "\n",
    "def entropiaSlow(tekst):\n",
    "    \"\"\"Funkcja obliczająca entropię słów w tekście\"\"\"\n",
    "    slowa = tekst.split()\n",
    "    counter = Counter(slowa)\n",
    "    total = sum(counter.values())\n",
    "    entropia = 0\n",
    "    for count in counter.values():\n",
    "        p = count / total\n",
    "        entropia += -p * math.log2(p)\n",
    "    return entropia\n",
    "\n",
    "\n",
    "def entropiaLaczna(tekst, n):\n",
    "    \"\"\"Funkcja obliczajaca entropie laczna\"\"\"\n",
    "    pair_counter = Counter(tekst[i:i+n] for i in range(len(tekst) - n + 1))\n",
    "    entropia = 0\n",
    "    total = sum(pair_counter.values())\n",
    "    for pair in pair_counter:\n",
    "        p = pair_counter[pair] / total\n",
    "        entropia += -p * math.log2(p)\n",
    "    return entropia\n",
    "\n",
    "def entropiaWarunkowa(tekst, n):\n",
    "    \"\"\"Funkcja obliczająca entropie warunkowa dla danego rzedu n\"\"\"\n",
    "    laczna = entropiaLaczna(tekst, n+1)\n",
    "    zwykla = entropiaLaczna(tekst, n)\n",
    "    return laczna - zwykla\n",
    "\n",
    "def wyliczenieEntropi(tekst, nazwa, rzad=5):\n",
    "    \"\"\"Funkcja obliczajaca entropie dla znakow i slow w podanym tekscie\"\"\"\n",
    "    wikiEnEntropia = entropia(tekst)\n",
    "    print(f\"Entropia dla znakow {nazwa}: {wikiEnEntropia}\")\n",
    "\n",
    "    wikiEnEntropiaSlowa = entropiaSlow(tekst)\n",
    "    print(f\"Entropia dla slow {nazwa}: {wikiEnEntropiaSlowa}\")\n",
    "\n",
    "    for i in range(1, rzad+1):\n",
    "        print(f\"Entropia warunkowa dla {nazwa} rzedu {i}: {entropiaWarunkowa(tekst, i)}\")\n",
    "    print()"
   ]
  },
  {
   "cell_type": "markdown",
   "metadata": {},
   "source": [
    "Zadanie 1"
   ]
  },
  {
   "cell_type": "code",
   "execution_count": 3,
   "metadata": {},
   "outputs": [
    {
     "name": "stdout",
     "output_type": "stream",
     "text": [
      "Entropia dla znakow wikiEn: 4.288221453845133\n",
      "Entropia dla slow wikiEn: 11.543993773635416\n",
      "Entropia warunkowa dla wikiEn rzedu 1: 3.5166049576878438\n",
      "Entropia warunkowa dla wikiEn rzedu 2: 3.018318972912313\n",
      "Entropia warunkowa dla wikiEn rzedu 3: 2.4815655628514435\n",
      "Entropia warunkowa dla wikiEn rzedu 4: 2.021184496790042\n",
      "Entropia warunkowa dla wikiEn rzedu 5: 1.672408138872889\n",
      "Entropia warunkowa dla wikiEn rzedu 6: 1.3876954581701355\n",
      "\n"
     ]
    }
   ],
   "source": [
    "wikiEn = openFile(\"daneFolder/norm_wiki_en.txt\")\n",
    "wyliczenieEntropi(wikiEn, \"wikiEn\", 6)"
   ]
  },
  {
   "cell_type": "markdown",
   "metadata": {},
   "source": [
    "Zadanie 2"
   ]
  },
  {
   "cell_type": "code",
   "execution_count": 4,
   "metadata": {},
   "outputs": [
    {
     "name": "stdout",
     "output_type": "stream",
     "text": [
      "Entropia dla znakow wikiLo: 4.228247465746812\n",
      "Entropia dla slow wikiLo: 11.969194044355133\n",
      "Entropia warunkowa dla wikiLo rzedu 1: 3.450126149804748\n",
      "Entropia warunkowa dla wikiLo rzedu 2: 2.8234919874322983\n",
      "Entropia warunkowa dla wikiLo rzedu 3: 2.1520314708890176\n",
      "Entropia warunkowa dla wikiLo rzedu 4: 1.6427640481916423\n",
      "Entropia warunkowa dla wikiLo rzedu 5: 1.3127478385050058\n",
      "Entropia warunkowa dla wikiLo rzedu 6: 1.0690519135476855\n",
      "\n"
     ]
    }
   ],
   "source": [
    "wikiLo = openFile(\"daneFolder/norm_wiki_la.txt\")\n",
    "wyliczenieEntropi(wikiLo, \"wikiLo\", 6)"
   ]
  },
  {
   "cell_type": "markdown",
   "metadata": {},
   "source": [
    "Zadanie 3"
   ]
  },
  {
   "cell_type": "code",
   "execution_count": 5,
   "metadata": {},
   "outputs": [
    {
     "name": "stdout",
     "output_type": "stream",
     "text": [
      "Entropia dla znakow sample0: 4.273001240566633\n",
      "Entropia dla slow sample0: 7.748741386140158\n",
      "Entropia warunkowa dla sample0 rzedu 1: 2.9158940586296893\n",
      "Entropia warunkowa dla sample0 rzedu 2: 2.0003594502801\n",
      "Entropia warunkowa dla sample0 rzedu 3: 1.5392819556315551\n",
      "Entropia warunkowa dla sample0 rzedu 4: 1.4385819180679196\n",
      "Entropia warunkowa dla sample0 rzedu 5: 1.3919687943795243\n",
      "Entropia warunkowa dla sample0 rzedu 6: 1.3028459094169005\n",
      "\n"
     ]
    }
   ],
   "source": [
    "sample0 = openFile(\"daneFolder/sample0.txt\")\n",
    "wyliczenieEntropi(sample0, \"sample0\", 6)"
   ]
  },
  {
   "cell_type": "code",
   "execution_count": 6,
   "metadata": {},
   "outputs": [
    {
     "name": "stdout",
     "output_type": "stream",
     "text": [
      "Entropia dla znakow sample1: 4.1270061355497205\n",
      "Entropia dla slow sample1: 11.500698483659841\n",
      "Entropia warunkowa dla sample1 rzedu 1: 3.239150179725745\n",
      "Entropia warunkowa dla sample1 rzedu 2: 2.8612796313848845\n",
      "Entropia warunkowa dla sample1 rzedu 3: 2.3266847632336045\n",
      "Entropia warunkowa dla sample1 rzedu 4: 1.8135099934567247\n",
      "Entropia warunkowa dla sample1 rzedu 5: 1.4311245337510048\n",
      "Entropia warunkowa dla sample1 rzedu 6: 1.1420020506221888\n",
      "\n"
     ]
    }
   ],
   "source": [
    "sample1 = openFile(\"daneFolder/sample1.txt\")\n",
    "wyliczenieEntropi(sample1, \"sample1\", 6)"
   ]
  },
  {
   "cell_type": "code",
   "execution_count": 7,
   "metadata": {},
   "outputs": [
    {
     "name": "stdout",
     "output_type": "stream",
     "text": [
      "Entropia dla znakow sample2: 3.993311800232584\n",
      "Entropia dla slow sample2: 8.023869815826421\n",
      "Entropia warunkowa dla sample2 rzedu 1: 3.050439233847188\n",
      "Entropia warunkowa dla sample2 rzedu 2: 2.4676603219157514\n",
      "Entropia warunkowa dla sample2 rzedu 3: 1.9397721340083418\n",
      "Entropia warunkowa dla sample2 rzedu 4: 1.7020323068326775\n",
      "Entropia warunkowa dla sample2 rzedu 5: 1.614413198682863\n",
      "Entropia warunkowa dla sample2 rzedu 6: 1.5398780591981307\n",
      "\n"
     ]
    }
   ],
   "source": [
    "sample2 = openFile(\"daneFolder/sample2.txt\")\n",
    "wyliczenieEntropi(sample2, \"sample2\", 6)"
   ]
  },
  {
   "cell_type": "code",
   "execution_count": 8,
   "metadata": {},
   "outputs": [
    {
     "name": "stdout",
     "output_type": "stream",
     "text": [
      "Entropia dla znakow sample3: 3.930297834157987\n",
      "Entropia dla slow sample3: 9.061119324692852\n",
      "Entropia warunkowa dla sample3 rzedu 1: 3.184467264594503\n",
      "Entropia warunkowa dla sample3 rzedu 2: 2.6278950708415243\n",
      "Entropia warunkowa dla sample3 rzedu 3: 2.0239908647525233\n",
      "Entropia warunkowa dla sample3 rzedu 4: 1.5342422105414606\n",
      "Entropia warunkowa dla sample3 rzedu 5: 1.2504125342084844\n",
      "Entropia warunkowa dla sample3 rzedu 6: 1.0840526759776825\n",
      "\n"
     ]
    }
   ],
   "source": [
    "sample3 = openFile(\"daneFolder/sample3.txt\")\n",
    "wyliczenieEntropi(sample3, \"sample3\", 6)"
   ]
  },
  {
   "cell_type": "code",
   "execution_count": 9,
   "metadata": {},
   "outputs": [
    {
     "name": "stdout",
     "output_type": "stream",
     "text": [
      "Entropia dla znakow sample4: 4.2538095673790135\n",
      "Entropia dla slow sample4: 17.129669110943123\n",
      "Entropia warunkowa dla sample4 rzedu 1: 4.229101474093364\n",
      "Entropia warunkowa dla sample4 rzedu 2: 4.226829073279905\n",
      "Entropia warunkowa dla sample4 rzedu 3: 4.178535298161005\n",
      "Entropia warunkowa dla sample4 rzedu 4: 3.7661316733038994\n",
      "Entropia warunkowa dla sample4 rzedu 5: 2.390571247487678\n",
      "Entropia warunkowa dla sample4 rzedu 6: 0.7084144154614904\n",
      "\n"
     ]
    }
   ],
   "source": [
    "sample4 = openFile(\"daneFolder/sample4.txt\")\n",
    "wyliczenieEntropi(sample4, \"sample4\", 6)"
   ]
  },
  {
   "cell_type": "code",
   "execution_count": 10,
   "metadata": {},
   "outputs": [
    {
     "name": "stdout",
     "output_type": "stream",
     "text": [
      "Entropia dla znakow sample5: 4.441688018481797\n",
      "Entropia dla slow sample5: 16.50952760746038\n",
      "Entropia warunkowa dla sample5 rzedu 1: 3.5230982499155203\n",
      "Entropia warunkowa dla sample5 rzedu 2: 3.2506208225520457\n",
      "Entropia warunkowa dla sample5 rzedu 3: 2.834271345189844\n",
      "Entropia warunkowa dla sample5 rzedu 4: 2.172440826214544\n",
      "Entropia warunkowa dla sample5 rzedu 5: 1.446868002946811\n",
      "Entropia warunkowa dla sample5 rzedu 6: 0.8847413135718014\n",
      "\n"
     ]
    }
   ],
   "source": [
    "sample5 = openFile(\"daneFolder/sample5.txt\")\n",
    "wyliczenieEntropi(sample5, \"sample5\", 6)"
   ]
  },
  {
   "cell_type": "markdown",
   "metadata": {},
   "source": [
    "Zawierają język naturalny: sample1, sample3"
   ]
  }
 ],
 "metadata": {
  "kernelspec": {
   "display_name": "Python 3",
   "language": "python",
   "name": "python3"
  },
  "language_info": {
   "codemirror_mode": {
    "name": "ipython",
    "version": 3
   },
   "file_extension": ".py",
   "mimetype": "text/x-python",
   "name": "python",
   "nbconvert_exporter": "python",
   "pygments_lexer": "ipython3",
   "version": "3.13.2"
  }
 },
 "nbformat": 4,
 "nbformat_minor": 2
}
